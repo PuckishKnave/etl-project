{
 "cells": [
  {
   "cell_type": "code",
   "execution_count": 3,
   "metadata": {},
   "outputs": [],
   "source": [
    "import pandas as pd\n",
    "from sqlalchemy import create_engine\n",
    "from sqlalchemy.ext.declarative import declarative_base\n",
    "from sqlalchemy import Column, Integer, String, Float, Date\n",
    "from sqlalchemy.orm import Session\n",
    "\n"
   ]
  },
  {
   "cell_type": "code",
   "execution_count": null,
   "metadata": {},
   "outputs": [],
   "source": [
    "\n",
    "### Bring in another CSV file and turn into a DF\n",
    "\n",
    "day_sell_csv = (r\"C:\\Users\\rnorris\\Documents\\GitHub\\etl-project\\Resources\\day_sell.csv\")\n",
    "day_sell_df = pd.read_csv(day_sell_csv)\n",
    "day_sell_df.head()"
   ]
  },
  {
   "cell_type": "code",
   "execution_count": null,
   "metadata": {},
   "outputs": [],
   "source": [
    "# read in first grocery csv \n",
    "grocery_csv = \"./Resources/Groceries_dataset.csv\"\n",
    "grocery_df = pd.read_csv(grocery_csv)\n",
    "\n",
    "# renamed Member column\n",
    "grocery_df.rename(columns={'Member_number':'MemberID'},\n",
    "                 inplace=True)\n",
    "grocery_df.index.name = 'Index'\n",
    "grocery_df.head()"
   ]
  }
 ],
 "metadata": {
  "kernelspec": {
   "display_name": "Python [conda env:PythonData] *",
   "language": "python",
   "name": "conda-env-PythonData-py"
  },
  "language_info": {
   "codemirror_mode": {
    "name": "ipython",
    "version": 3
   },
   "file_extension": ".py",
   "mimetype": "text/x-python",
   "name": "python",
   "nbconvert_exporter": "python",
   "pygments_lexer": "ipython3",
   "version": "3.6.10"
  }
 },
 "nbformat": 4,
 "nbformat_minor": 4
}
